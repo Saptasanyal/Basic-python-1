{
  "nbformat": 4,
  "nbformat_minor": 0,
  "metadata": {
    "colab": {
      "provenance": []
    },
    "kernelspec": {
      "name": "python3",
      "display_name": "Python 3"
    },
    "language_info": {
      "name": "python"
    }
  },
  "cells": [
    {
      "cell_type": "code",
      "source": [
        "print(1+1)\n",
        "print(\"1+1\")\n",
        "'1'+'1'"
      ],
      "metadata": {
        "colab": {
          "base_uri": "https://localhost:8080/",
          "height": 70
        },
        "id": "gbv_03mUzmOJ",
        "outputId": "18dca6a0-7d75-4a88-fd98-58beec07757c"
      },
      "execution_count": null,
      "outputs": [
        {
          "output_type": "stream",
          "name": "stdout",
          "text": [
            "2\n",
            "1+1\n"
          ]
        },
        {
          "output_type": "execute_result",
          "data": {
            "text/plain": [
              "'11'"
            ],
            "application/vnd.google.colaboratory.intrinsic+json": {
              "type": "string"
            }
          },
          "metadata": {},
          "execution_count": 1
        }
      ]
    },
    {
      "cell_type": "code",
      "source": [
        "a=input()\n",
        "print(a[-1::-1])\n",
        "print(a[len(a)-1::-1])\n",
        "print(a[-1:-len(a)-1:-1])"
      ],
      "metadata": {
        "colab": {
          "base_uri": "https://localhost:8080/"
        },
        "id": "NhFR03FHJ61f",
        "outputId": "ceb2875a-8dc7-4cfd-fb85-9bec8206b590"
      },
      "execution_count": null,
      "outputs": [
        {
          "output_type": "stream",
          "name": "stdout",
          "text": [
            "sapt\n",
            "tpas\n",
            "tpas\n",
            "tpas\n"
          ]
        }
      ]
    },
    {
      "cell_type": "code",
      "source": [
        "x=7\n",
        "y=5\n",
        "print(x/y)\n",
        "print(x//y)\n",
        "print(x*y)\n",
        "print(x**y)\n",
        "print(x%y)"
      ],
      "metadata": {
        "colab": {
          "base_uri": "https://localhost:8080/"
        },
        "id": "qG6Z55WE0sLz",
        "outputId": "5749623f-1310-4589-b069-8779eb4ac576"
      },
      "execution_count": null,
      "outputs": [
        {
          "output_type": "stream",
          "name": "stdout",
          "text": [
            "1.4\n",
            "1\n",
            "35\n",
            "16807\n",
            "2\n"
          ]
        }
      ]
    },
    {
      "cell_type": "code",
      "execution_count": null,
      "metadata": {
        "colab": {
          "base_uri": "https://localhost:8080/"
        },
        "id": "xc-7bXPjsx5O",
        "outputId": "c4a46473-ab0f-40cc-94f6-be2b423ac16f"
      },
      "outputs": [
        {
          "output_type": "execute_result",
          "data": {
            "text/plain": [
              "2"
            ]
          },
          "metadata": {},
          "execution_count": 1
        }
      ],
      "source": [
        "1 + 1"
      ]
    },
    {
      "cell_type": "code",
      "source": [
        "x=25\n",
        "y=13\n",
        "t=x\n",
        "x=y\n",
        "y=t\n",
        "print(x)\n",
        "print(y)"
      ],
      "metadata": {
        "colab": {
          "base_uri": "https://localhost:8080/"
        },
        "id": "7tFTcy4n31Ua",
        "outputId": "6a21681f-ae52-433c-f7bf-3164d9593c8b"
      },
      "execution_count": null,
      "outputs": [
        {
          "output_type": "stream",
          "name": "stdout",
          "text": [
            "13\n",
            "25\n"
          ]
        }
      ]
    },
    {
      "cell_type": "code",
      "source": [
        "x=13\n",
        "print(bin(x))"
      ],
      "metadata": {
        "id": "0MdXba9AfJap",
        "colab": {
          "base_uri": "https://localhost:8080/"
        },
        "outputId": "323ef729-8386-451c-8dcd-2b80aa589399"
      },
      "execution_count": null,
      "outputs": [
        {
          "output_type": "stream",
          "name": "stdout",
          "text": [
            "0b1101\n"
          ]
        }
      ]
    },
    {
      "cell_type": "code",
      "source": [
        "x=13\n",
        "y=14\n",
        "x=x^y\n",
        "y=x^y\n",
        "x=x^y\n",
        "print(x)\n",
        "print(y)"
      ],
      "metadata": {
        "colab": {
          "base_uri": "https://localhost:8080/"
        },
        "id": "aJVmSOPb_jL5",
        "outputId": "f58c5db5-294c-4f6c-a239-25a47968df18"
      },
      "execution_count": null,
      "outputs": [
        {
          "output_type": "stream",
          "name": "stdout",
          "text": [
            "14\n",
            "13\n"
          ]
        }
      ]
    },
    {
      "cell_type": "code",
      "source": [
        "(1 * 3"
      ],
      "metadata": {
        "colab": {
          "base_uri": "https://localhost:8080/"
        },
        "id": "9e5FhLbFwuP7",
        "outputId": "56ffb132-5fb4-4fb8-ad87-f2cff4e3bb82"
      },
      "execution_count": null,
      "outputs": [
        {
          "output_type": "execute_result",
          "data": {
            "text/plain": [
              "3"
            ]
          },
          "metadata": {},
          "execution_count": 2
        }
      ]
    },
    {
      "cell_type": "code",
      "source": [
        "1 / 2"
      ],
      "metadata": {
        "colab": {
          "base_uri": "https://localhost:8080/"
        },
        "id": "i0NATqSNw0k5",
        "outputId": "da211e02-99bd-4f36-d8c2-85e099979f56"
      },
      "execution_count": null,
      "outputs": [
        {
          "output_type": "execute_result",
          "data": {
            "text/plain": [
              "0.5"
            ]
          },
          "metadata": {},
          "execution_count": 3
        }
      ]
    },
    {
      "cell_type": "code",
      "source": [
        "4/2"
      ],
      "metadata": {
        "colab": {
          "base_uri": "https://localhost:8080/"
        },
        "id": "6G6eIWa1w1So",
        "outputId": "7d1f2f16-cd29-48e0-c32c-2733a330077b"
      },
      "execution_count": null,
      "outputs": [
        {
          "output_type": "execute_result",
          "data": {
            "text/plain": [
              "2.0"
            ]
          },
          "metadata": {},
          "execution_count": 4
        }
      ]
    },
    {
      "cell_type": "code",
      "source": [
        "2 ** 4"
      ],
      "metadata": {
        "colab": {
          "base_uri": "https://localhost:8080/"
        },
        "id": "EbluD5ekw2Vh",
        "outputId": "292d18a9-fd91-4682-b4af-78de13e6809a"
      },
      "execution_count": null,
      "outputs": [
        {
          "output_type": "execute_result",
          "data": {
            "text/plain": [
              "16"
            ]
          },
          "metadata": {},
          "execution_count": 5
        }
      ]
    },
    {
      "cell_type": "code",
      "source": [
        "4 % 2"
      ],
      "metadata": {
        "colab": {
          "base_uri": "https://localhost:8080/"
        },
        "id": "pI42qdWmw4qI",
        "outputId": "27fd8ef6-8d2f-4829-9ec3-76df301f1949"
      },
      "execution_count": null,
      "outputs": [
        {
          "output_type": "execute_result",
          "data": {
            "text/plain": [
              "0"
            ]
          },
          "metadata": {},
          "execution_count": 7
        }
      ]
    },
    {
      "cell_type": "code",
      "source": [
        "(2 + 3) * (5 + 5)"
      ],
      "metadata": {
        "colab": {
          "base_uri": "https://localhost:8080/"
        },
        "id": "Ex1yRdQOw7Rn",
        "outputId": "2b88bb51-a5da-4cb5-a682-22e95bc734ce"
      },
      "execution_count": null,
      "outputs": [
        {
          "output_type": "execute_result",
          "data": {
            "text/plain": [
              "50"
            ]
          },
          "metadata": {},
          "execution_count": 8
        }
      ]
    },
    {
      "cell_type": "code",
      "source": [
        "'My age is ' +'27'"
      ],
      "metadata": {
        "colab": {
          "base_uri": "https://localhost:8080/",
          "height": 35
        },
        "id": "kOtJYdLh1y_x",
        "outputId": "dd08fe21-fdf9-4036-a7a8-380eb7c852b8"
      },
      "execution_count": null,
      "outputs": [
        {
          "output_type": "execute_result",
          "data": {
            "text/plain": [
              "'My age is 27'"
            ],
            "application/vnd.google.colaboratory.intrinsic+json": {
              "type": "string"
            }
          },
          "metadata": {},
          "execution_count": 11
        }
      ]
    },
    {
      "cell_type": "markdown",
      "source": [
        "Q 1.Find the output of the Following code:\n",
        "(1996-1995)*(1996-1996)*(1996-1997)/(1996-1996)"
      ],
      "metadata": {
        "id": "TEFoNlknxFlg"
      }
    },
    {
      "cell_type": "code",
      "source": [
        "name=input()\n",
        "age=input()\n",
        "name+\" is \"+age+\" years old\""
      ],
      "metadata": {
        "colab": {
          "base_uri": "https://localhost:8080/",
          "height": 70
        },
        "id": "l3bLoKBn4aTF",
        "outputId": "76b20601-5707-4f27-85d5-9956449fe4ba"
      },
      "execution_count": null,
      "outputs": [
        {
          "name": "stdout",
          "output_type": "stream",
          "text": [
            "sap\n",
            "27\n"
          ]
        },
        {
          "output_type": "execute_result",
          "data": {
            "text/plain": [
              "'sap is 27 years old'"
            ],
            "application/vnd.google.colaboratory.intrinsic+json": {
              "type": "string"
            }
          },
          "metadata": {},
          "execution_count": 12
        }
      ]
    },
    {
      "cell_type": "code",
      "source": [
        "(1996-1995)*(1996-1996)*(1996-1997)/(1996-1996)"
      ],
      "metadata": {
        "colab": {
          "base_uri": "https://localhost:8080/",
          "height": 176
        },
        "id": "BXAX4apNxBfg",
        "outputId": "4c5a751c-733a-4e52-b838-f663fa0d7664"
      },
      "execution_count": null,
      "outputs": [
        {
          "output_type": "error",
          "ename": "ZeroDivisionError",
          "evalue": "division by zero",
          "traceback": [
            "\u001b[0;31m---------------------------------------------------------------------------\u001b[0m",
            "\u001b[0;31mZeroDivisionError\u001b[0m                         Traceback (most recent call last)",
            "\u001b[0;32m<ipython-input-2-6b4b1e1f68c7>\u001b[0m in \u001b[0;36m<cell line: 1>\u001b[0;34m()\u001b[0m\n\u001b[0;32m----> 1\u001b[0;31m \u001b[0;34m(\u001b[0m\u001b[0;36m1996\u001b[0m\u001b[0;34m-\u001b[0m\u001b[0;36m1995\u001b[0m\u001b[0;34m)\u001b[0m\u001b[0;34m*\u001b[0m\u001b[0;34m(\u001b[0m\u001b[0;36m1996\u001b[0m\u001b[0;34m-\u001b[0m\u001b[0;36m1996\u001b[0m\u001b[0;34m)\u001b[0m\u001b[0;34m*\u001b[0m\u001b[0;34m(\u001b[0m\u001b[0;36m1996\u001b[0m\u001b[0;34m-\u001b[0m\u001b[0;36m1997\u001b[0m\u001b[0;34m)\u001b[0m\u001b[0;34m/\u001b[0m\u001b[0;34m(\u001b[0m\u001b[0;36m1996\u001b[0m\u001b[0;34m-\u001b[0m\u001b[0;36m1996\u001b[0m\u001b[0;34m)\u001b[0m\u001b[0;34m\u001b[0m\u001b[0;34m\u001b[0m\u001b[0m\n\u001b[0m",
            "\u001b[0;31mZeroDivisionError\u001b[0m: division by zero"
          ]
        }
      ]
    },
    {
      "cell_type": "markdown",
      "source": [
        "**Zero Division error**\n"
      ],
      "metadata": {
        "id": "X_wa6fb6xzGR"
      }
    },
    {
      "cell_type": "markdown",
      "source": [
        "**Strings**"
      ],
      "metadata": {
        "id": "Ula6PknhyLi-"
      }
    },
    {
      "cell_type": "code",
      "source": [
        "'Can be written in single quotes'"
      ],
      "metadata": {
        "colab": {
          "base_uri": "https://localhost:8080/",
          "height": 35
        },
        "id": "932tfqylxtKZ",
        "outputId": "88c45b07-5727-45df-c00f-a710a52de628"
      },
      "execution_count": null,
      "outputs": [
        {
          "output_type": "execute_result",
          "data": {
            "text/plain": [
              "'Can be written in single quotes'"
            ],
            "application/vnd.google.colaboratory.intrinsic+json": {
              "type": "string"
            }
          },
          "metadata": {},
          "execution_count": 10
        }
      ]
    },
    {
      "cell_type": "code",
      "source": [
        "\"Can be written in double quotes\""
      ],
      "metadata": {
        "colab": {
          "base_uri": "https://localhost:8080/",
          "height": 35
        },
        "id": "n8Yst8pxyO7d",
        "outputId": "bcd933cc-14cb-43c0-b359-8784367128b7"
      },
      "execution_count": null,
      "outputs": [
        {
          "output_type": "execute_result",
          "data": {
            "text/plain": [
              "'Can be written in double quotes'"
            ],
            "application/vnd.google.colaboratory.intrinsic+json": {
              "type": "string"
            }
          },
          "metadata": {},
          "execution_count": 11
        }
      ]
    },
    {
      "cell_type": "code",
      "source": [
        "'1'+'2'"
      ],
      "metadata": {
        "colab": {
          "base_uri": "https://localhost:8080/",
          "height": 35
        },
        "id": "ZPT5E9vghL49",
        "outputId": "02df3e69-f3cd-4e7a-906a-0c5d253b3e82"
      },
      "execution_count": null,
      "outputs": [
        {
          "output_type": "execute_result",
          "data": {
            "text/plain": [
              "'12'"
            ],
            "application/vnd.google.colaboratory.intrinsic+json": {
              "type": "string"
            }
          },
          "metadata": {},
          "execution_count": 3
        }
      ]
    },
    {
      "cell_type": "markdown",
      "source": [
        "Printing:\n",
        "For printing anything in python we use print() function"
      ],
      "metadata": {
        "id": "ubBHH-HPy8yp"
      }
    },
    {
      "cell_type": "code",
      "source": [
        "'my age is' 27"
      ],
      "metadata": {
        "colab": {
          "base_uri": "https://localhost:8080/",
          "height": 141
        },
        "id": "w1ByB0myhcXW",
        "outputId": "a63d9e8f-f306-4899-8fe7-cec003478b77"
      },
      "execution_count": null,
      "outputs": [
        {
          "output_type": "error",
          "ename": "SyntaxError",
          "evalue": "invalid syntax (<ipython-input-4-67d194680f00>, line 1)",
          "traceback": [
            "\u001b[0;36m  File \u001b[0;32m\"<ipython-input-4-67d194680f00>\"\u001b[0;36m, line \u001b[0;32m1\u001b[0m\n\u001b[0;31m    'my age is' 27\u001b[0m\n\u001b[0m                ^\u001b[0m\n\u001b[0;31mSyntaxError\u001b[0m\u001b[0;31m:\u001b[0m invalid syntax\n"
          ]
        }
      ]
    },
    {
      "cell_type": "code",
      "source": [
        "print('Hello')"
      ],
      "metadata": {
        "colab": {
          "base_uri": "https://localhost:8080/"
        },
        "id": "xCTcrrYthm3B",
        "outputId": "88019a44-3d91-4aac-8cc7-b8383a053741"
      },
      "execution_count": null,
      "outputs": [
        {
          "output_type": "stream",
          "name": "stdout",
          "text": [
            "Hello\n"
          ]
        }
      ]
    },
    {
      "cell_type": "code",
      "source": [
        "print(1+1)"
      ],
      "metadata": {
        "colab": {
          "base_uri": "https://localhost:8080/"
        },
        "id": "nMJh-_4ehttF",
        "outputId": "7a02c3ed-89aa-44f8-a782-7df2e3872b0e"
      },
      "execution_count": null,
      "outputs": [
        {
          "output_type": "stream",
          "name": "stdout",
          "text": [
            "2\n"
          ]
        }
      ]
    },
    {
      "cell_type": "code",
      "source": [
        "x = 'Hello World!'"
      ],
      "metadata": {
        "id": "4W0y0qpWyPU_"
      },
      "execution_count": null,
      "outputs": []
    },
    {
      "cell_type": "code",
      "source": [
        "x"
      ],
      "metadata": {
        "colab": {
          "base_uri": "https://localhost:8080/",
          "height": 35
        },
        "id": "irZX7mwKyPdx",
        "outputId": "c36a8ab4-120f-4d56-d1b6-59aa4ec7bcf1"
      },
      "execution_count": null,
      "outputs": [
        {
          "output_type": "execute_result",
          "data": {
            "text/plain": [
              "'Hello World!'"
            ],
            "application/vnd.google.colaboratory.intrinsic+json": {
              "type": "string"
            }
          },
          "metadata": {},
          "execution_count": 14
        }
      ]
    },
    {
      "cell_type": "code",
      "source": [
        "print(x)"
      ],
      "metadata": {
        "colab": {
          "base_uri": "https://localhost:8080/"
        },
        "id": "Qs5lapkszeAz",
        "outputId": "28184def-9b3b-4c8a-a6d4-ea2c954dc648"
      },
      "execution_count": null,
      "outputs": [
        {
          "output_type": "stream",
          "name": "stdout",
          "text": [
            "Hello World!\n"
          ]
        }
      ]
    },
    {
      "cell_type": "code",
      "source": [
        "'the value is' 5"
      ],
      "metadata": {
        "colab": {
          "base_uri": "https://localhost:8080/",
          "height": 140
        },
        "id": "3QEn4gI9zizp",
        "outputId": "7a12f73d-e221-4dcb-8de1-0e7e4690824d"
      },
      "execution_count": null,
      "outputs": [
        {
          "output_type": "error",
          "ename": "SyntaxError",
          "evalue": "invalid syntax (<ipython-input-16-9b4b33a362d0>, line 1)",
          "traceback": [
            "\u001b[0;36m  File \u001b[0;32m\"<ipython-input-16-9b4b33a362d0>\"\u001b[0;36m, line \u001b[0;32m1\u001b[0m\n\u001b[0;31m    'the value is' 5\u001b[0m\n\u001b[0m                   ^\u001b[0m\n\u001b[0;31mSyntaxError\u001b[0m\u001b[0;31m:\u001b[0m invalid syntax\n"
          ]
        }
      ]
    },
    {
      "cell_type": "code",
      "source": [
        "x = 5\n",
        "print(\"The value of x is\", x)\n"
      ],
      "metadata": {
        "colab": {
          "base_uri": "https://localhost:8080/"
        },
        "id": "C6Y_5AixzymJ",
        "outputId": "b2950cf8-260d-49ad-d1b7-ef1075b5f25d"
      },
      "execution_count": null,
      "outputs": [
        {
          "output_type": "stream",
          "name": "stdout",
          "text": [
            "The value of x is 5\n"
          ]
        }
      ]
    },
    {
      "cell_type": "code",
      "source": [
        "x=input()\n",
        "y=input()\n",
        "print(x+y)"
      ],
      "metadata": {
        "colab": {
          "base_uri": "https://localhost:8080/"
        },
        "id": "0E4tif1pkZzc",
        "outputId": "5a0c27eb-ffa7-44e0-df7f-a4ca1954ab39"
      },
      "execution_count": null,
      "outputs": [
        {
          "output_type": "stream",
          "name": "stdout",
          "text": [
            "1\n",
            "2\n",
            "12\n"
          ]
        }
      ]
    },
    {
      "cell_type": "code",
      "source": [
        "name=input()\n",
        "age=int(input())\n",
        "print(\"My name is \"+ name+ \"My age is\" + age)"
      ],
      "metadata": {
        "colab": {
          "base_uri": "https://localhost:8080/",
          "height": 245
        },
        "id": "Wt2-LK2Fj4xF",
        "outputId": "c8a8f632-03db-4959-cc48-b9233f3388f6"
      },
      "execution_count": null,
      "outputs": [
        {
          "name": "stdout",
          "output_type": "stream",
          "text": [
            "sap\n",
            "27\n"
          ]
        },
        {
          "output_type": "error",
          "ename": "TypeError",
          "evalue": "can only concatenate str (not \"int\") to str",
          "traceback": [
            "\u001b[0;31m---------------------------------------------------------------------------\u001b[0m",
            "\u001b[0;31mTypeError\u001b[0m                                 Traceback (most recent call last)",
            "\u001b[0;32m<ipython-input-11-c1f785575016>\u001b[0m in \u001b[0;36m<cell line: 3>\u001b[0;34m()\u001b[0m\n\u001b[1;32m      1\u001b[0m \u001b[0mname\u001b[0m\u001b[0;34m=\u001b[0m\u001b[0minput\u001b[0m\u001b[0;34m(\u001b[0m\u001b[0;34m)\u001b[0m\u001b[0;34m\u001b[0m\u001b[0;34m\u001b[0m\u001b[0m\n\u001b[1;32m      2\u001b[0m \u001b[0mage\u001b[0m\u001b[0;34m=\u001b[0m\u001b[0mint\u001b[0m\u001b[0;34m(\u001b[0m\u001b[0minput\u001b[0m\u001b[0;34m(\u001b[0m\u001b[0;34m)\u001b[0m\u001b[0;34m)\u001b[0m\u001b[0;34m\u001b[0m\u001b[0;34m\u001b[0m\u001b[0m\n\u001b[0;32m----> 3\u001b[0;31m \u001b[0mprint\u001b[0m\u001b[0;34m(\u001b[0m\u001b[0;34m\"My name is \"\u001b[0m\u001b[0;34m+\u001b[0m \u001b[0mname\u001b[0m\u001b[0;34m+\u001b[0m \u001b[0;34m\"My age is\"\u001b[0m \u001b[0;34m+\u001b[0m \u001b[0mage\u001b[0m\u001b[0;34m)\u001b[0m\u001b[0;34m\u001b[0m\u001b[0;34m\u001b[0m\u001b[0m\n\u001b[0m",
            "\u001b[0;31mTypeError\u001b[0m: can only concatenate str (not \"int\") to str"
          ]
        }
      ]
    },
    {
      "cell_type": "code",
      "source": [
        "'sap' +'1'+'3'"
      ],
      "metadata": {
        "colab": {
          "base_uri": "https://localhost:8080/",
          "height": 35
        },
        "id": "C8Q7nDlUkqCG",
        "outputId": "00a0e3e0-a5f0-4690-c65b-b9bebe07f395"
      },
      "execution_count": null,
      "outputs": [
        {
          "output_type": "execute_result",
          "data": {
            "text/plain": [
              "'sap13'"
            ],
            "application/vnd.google.colaboratory.intrinsic+json": {
              "type": "string"
            }
          },
          "metadata": {},
          "execution_count": 10
        }
      ]
    },
    {
      "cell_type": "markdown",
      "source": [
        "Q 2. Take name and age as input and print the following line:\n",
        "-----is ---- years old."
      ],
      "metadata": {
        "id": "5cHE49010dl8"
      }
    },
    {
      "cell_type": "markdown",
      "source": [
        "Formatting Output:\n",
        "Python’s print() function offers various ways to format output, making it easier to read and interpret data. String formatting methods like f-strings, str.format(), and concatenation are commonly used."
      ],
      "metadata": {
        "id": "PufYzZGK0DcK"
      }
    },
    {
      "cell_type": "markdown",
      "source": [
        "**F-Strings** (Formatted String Literals)\n",
        "Introduced in Python 3.6, f-strings offer an efficient and readable method for formatting strings."
      ],
      "metadata": {
        "id": "_zKxjrA-0-tW"
      }
    },
    {
      "cell_type": "code",
      "source": [
        "name = input()\n",
        "age = int(input())\n",
        "print(f\"{name} is {age} years old.\")\n"
      ],
      "metadata": {
        "colab": {
          "base_uri": "https://localhost:8080/"
        },
        "id": "o5nXe4glz12h",
        "outputId": "bd0ef146-72da-4524-afec-d2df0a5aa2b5"
      },
      "execution_count": null,
      "outputs": [
        {
          "output_type": "stream",
          "name": "stdout",
          "text": [
            "34\n",
            "45\n",
            "34 is 45 years old.\n"
          ]
        }
      ]
    },
    {
      "cell_type": "markdown",
      "source": [
        "The **str.format()** Method\n",
        "This method is versatile and works well in versions prior to Python 3.6."
      ],
      "metadata": {
        "id": "P6pajzZ_1E9u"
      }
    },
    {
      "cell_type": "code",
      "source": [
        "'''name = input()\n",
        "age = int(input())\n",
        "print('{string} is {number} years ils'.format(number=age,string=name))'''"
      ],
      "metadata": {
        "colab": {
          "base_uri": "https://localhost:8080/"
        },
        "id": "Iz5f_88Z019X",
        "outputId": "2da5ebc9-1a9b-4e06-d62b-b8fd92e772ae"
      },
      "execution_count": null,
      "outputs": [
        {
          "output_type": "stream",
          "name": "stdout",
          "text": [
            "dff\n",
            "45\n",
            "dff is 45 years ils\n"
          ]
        }
      ]
    },
    {
      "cell_type": "code",
      "source": [
        "a=56\n",
        "b=58\n",
        "print(a,b)"
      ],
      "metadata": {
        "colab": {
          "base_uri": "https://localhost:8080/"
        },
        "id": "VkdokHb72Is0",
        "outputId": "3b8c29d8-2170-4fe4-fd52-09c2f40491f1"
      },
      "execution_count": null,
      "outputs": [
        {
          "output_type": "stream",
          "name": "stdout",
          "text": [
            "56 58\n"
          ]
        }
      ]
    },
    {
      "cell_type": "markdown",
      "source": [
        "**Customizing Separators and End Characters**\n",
        "The print() function allows customization of the separator between items (default is space) and the end character (default is newline)."
      ],
      "metadata": {
        "id": "OOOAtZsa2xL1"
      }
    },
    {
      "cell_type": "code",
      "source": [
        "print(\"A\", \"B\", \"C\", sep=\", \", end=\".\")\n"
      ],
      "metadata": {
        "colab": {
          "base_uri": "https://localhost:8080/"
        },
        "id": "EXsdkdmO2YfC",
        "outputId": "fd5d1091-44bc-4215-cd90-0ae341201bb5"
      },
      "execution_count": null,
      "outputs": [
        {
          "output_type": "stream",
          "name": "stdout",
          "text": [
            "A, B, C."
          ]
        }
      ]
    },
    {
      "cell_type": "code",
      "source": [
        "print(\"A\", \"B\", \"C\", sep=\"* \", end=\"!\")\n"
      ],
      "metadata": {
        "colab": {
          "base_uri": "https://localhost:8080/"
        },
        "id": "KLn-XXbV21th",
        "outputId": "57ceceef-9ed4-4956-f9dc-434f511bf06b"
      },
      "execution_count": null,
      "outputs": [
        {
          "output_type": "stream",
          "name": "stdout",
          "text": [
            "A* B* C!"
          ]
        }
      ]
    },
    {
      "cell_type": "markdown",
      "source": [
        "**Flushing the Output**\n",
        "Using IPython Display\n",
        "The IPython display module provides more control over the output in Jupyter notebooks (like Google Colab). We can use display() and clear_output() to create a dynamic updating effect."
      ],
      "metadata": {
        "id": "1F2MAFYb3W4g"
      }
    },
    {
      "cell_type": "code",
      "source": [
        "import time\n",
        "from IPython.display import display, clear_output\n",
        "\n",
        "for i in range(100):\n",
        "    clear_output(wait=True)\n",
        "    print(f\"Processing item {i}...\")\n",
        "    time.sleep(1)\n"
      ],
      "metadata": {
        "colab": {
          "base_uri": "https://localhost:8080/",
          "height": 228
        },
        "id": "rpqxcB0925Bh",
        "outputId": "fa669bd7-3932-4630-e102-ba394d15cead"
      },
      "execution_count": null,
      "outputs": [
        {
          "output_type": "stream",
          "name": "stdout",
          "text": [
            "Processing item 16...\n"
          ]
        },
        {
          "output_type": "error",
          "ename": "KeyboardInterrupt",
          "evalue": "",
          "traceback": [
            "\u001b[0;31m---------------------------------------------------------------------------\u001b[0m",
            "\u001b[0;31mKeyboardInterrupt\u001b[0m                         Traceback (most recent call last)",
            "\u001b[0;32m<ipython-input-14-ad08e19231b3>\u001b[0m in \u001b[0;36m<cell line: 4>\u001b[0;34m()\u001b[0m\n\u001b[1;32m      5\u001b[0m     \u001b[0mclear_output\u001b[0m\u001b[0;34m(\u001b[0m\u001b[0mwait\u001b[0m\u001b[0;34m=\u001b[0m\u001b[0;32mTrue\u001b[0m\u001b[0;34m)\u001b[0m\u001b[0;34m\u001b[0m\u001b[0;34m\u001b[0m\u001b[0m\n\u001b[1;32m      6\u001b[0m     \u001b[0mprint\u001b[0m\u001b[0;34m(\u001b[0m\u001b[0;34mf\"Processing item {i}...\"\u001b[0m\u001b[0;34m)\u001b[0m\u001b[0;34m\u001b[0m\u001b[0;34m\u001b[0m\u001b[0m\n\u001b[0;32m----> 7\u001b[0;31m     \u001b[0mtime\u001b[0m\u001b[0;34m.\u001b[0m\u001b[0msleep\u001b[0m\u001b[0;34m(\u001b[0m\u001b[0;36m1\u001b[0m\u001b[0;34m)\u001b[0m\u001b[0;34m\u001b[0m\u001b[0;34m\u001b[0m\u001b[0m\n\u001b[0m",
            "\u001b[0;31mKeyboardInterrupt\u001b[0m: "
          ]
        }
      ]
    },
    {
      "cell_type": "markdown",
      "source": [
        "**Input function**\n",
        "Taking user input is a fundamental aspect of interactive Python programs. The primary function used for this purpose is **input()**. This function reads a line from input, converts it into a string (stripping a trailing newline), and returns it. Here are various examples demonstrating different scenarios and methods of taking input in Python:"
      ],
      "metadata": {
        "id": "nsu5o90M5U_G"
      }
    },
    {
      "cell_type": "markdown",
      "source": [
        "**Basic Usage of input():**\n",
        "The simplest use case is to prompt the user for some text input."
      ],
      "metadata": {
        "id": "co9defYN58TY"
      }
    },
    {
      "cell_type": "code",
      "source": [
        "x=input(\"Your name is: \")"
      ],
      "metadata": {
        "colab": {
          "base_uri": "https://localhost:8080/"
        },
        "id": "6qVs-nWiplyS",
        "outputId": "5a7750aa-2550-4fcd-98d7-bc84ea150ff0"
      },
      "execution_count": null,
      "outputs": [
        {
          "name": "stdout",
          "output_type": "stream",
          "text": [
            "Your name is: sap\n"
          ]
        }
      ]
    },
    {
      "cell_type": "code",
      "source": [
        "'''user_input = input(\"Please enter your name: \")\n",
        "print(f\"Hello, {user_input}!\")'''\n"
      ],
      "metadata": {
        "colab": {
          "base_uri": "https://localhost:8080/"
        },
        "id": "lGdcM5Ja3Kh4",
        "outputId": "3e07d373-18bd-4899-ff2c-77c26af0117d"
      },
      "execution_count": null,
      "outputs": [
        {
          "output_type": "stream",
          "name": "stdout",
          "text": [
            "Please enter your name: Saptarsi\n",
            "Hello, Saptarsi!\n"
          ]
        }
      ]
    },
    {
      "cell_type": "markdown",
      "source": [
        "**Taking Multiple Inputs in a Single Line:**\n",
        "Sometimes, you may want to take multiple inputs in one line, usually separated by spaces."
      ],
      "metadata": {
        "id": "5pWulkIK6S8D"
      }
    },
    {
      "cell_type": "code",
      "source": [
        "'''x, y = map(int, input(\"Enter two numbers separated by space: \").split())\n",
        "print(f\"The sum of {x} and {y} is {x + y}.\")'''\n"
      ],
      "metadata": {
        "colab": {
          "base_uri": "https://localhost:8080/"
        },
        "id": "w_RF-dwc6D0_",
        "outputId": "efbd44c2-b284-4c27-90b2-b64c1093da13"
      },
      "execution_count": null,
      "outputs": [
        {
          "output_type": "stream",
          "name": "stdout",
          "text": [
            "Enter two numbers separated by space: 45 67\n",
            "The sum of 45 and 67 is 112.\n"
          ]
        }
      ]
    },
    {
      "cell_type": "code",
      "source": [
        "x=input()\n",
        "y=input()\n",
        "print(x+y)"
      ],
      "metadata": {
        "id": "99XBLq5ZBGY-"
      },
      "execution_count": null,
      "outputs": []
    },
    {
      "cell_type": "code",
      "source": [
        "x=int(input())\n",
        "y=int(input())\n",
        "print(x+y)"
      ],
      "metadata": {
        "colab": {
          "base_uri": "https://localhost:8080/"
        },
        "id": "frBaqKiIqLTR",
        "outputId": "f1b69e71-6bb1-4637-cca5-716eed04bb66"
      },
      "execution_count": null,
      "outputs": [
        {
          "output_type": "stream",
          "name": "stdout",
          "text": [
            "4\n",
            "6\n",
            "10\n"
          ]
        }
      ]
    },
    {
      "cell_type": "markdown",
      "source": [
        "6Q 3. Take input name and age and print \"my name is ......, my age is .........\" using flushing output\n",
        "in each time a word will be printed"
      ],
      "metadata": {
        "id": "6ljbY6_LAToV"
      }
    },
    {
      "cell_type": "code",
      "source": [
        "import time\n",
        "from IPython.display import display, clear_output\n",
        "# Taking inputs\n",
        "name = input(\"Enter your name: \")\n",
        "age = input(\"Enter your age: \")\n",
        "\n",
        "# Preparing the message\n",
        "message = f\"My name is {name}, my age is {age}.\"\n",
        "\n",
        "# Splitting the message into words\n",
        "words = message.split()\n",
        "\n",
        "# Printing each word with flushing\n",
        "for word in words:\n",
        "    print(word, end=' ', flush=True)\n",
        "    time.sleep(0.5)  # Adjust the delay as needed\n"
      ],
      "metadata": {
        "colab": {
          "base_uri": "https://localhost:8080/"
        },
        "id": "Hp0uk4fR6_p3",
        "outputId": "08553f8a-08eb-4a2a-d5c9-15627bd8d42f"
      },
      "execution_count": null,
      "outputs": [
        {
          "output_type": "stream",
          "name": "stdout",
          "text": [
            "Enter your name: sap\n",
            "Enter your age: 27\n",
            "My name is sap, my age is 27. "
          ]
        }
      ]
    },
    {
      "cell_type": "markdown",
      "source": [
        "**Identifiers**:\n",
        "Identifiers: name used to identify a variable, funtion, class, module or any other object. a) Identifiers can ba a combination of lower case letters or upper case letters or digits or underscore(_)."
      ],
      "metadata": {
        "id": "XhNapWljH7IP"
      }
    },
    {
      "cell_type": "code",
      "source": [
        "aa_6=5\n",
        "print(aa_6)"
      ],
      "metadata": {
        "colab": {
          "base_uri": "https://localhost:8080/"
        },
        "id": "4QrL2qSVAZmA",
        "outputId": "a78f834b-5f4c-4837-b537-5431e3d0115c"
      },
      "execution_count": null,
      "outputs": [
        {
          "output_type": "stream",
          "name": "stdout",
          "text": [
            "5\n"
          ]
        }
      ]
    },
    {
      "cell_type": "markdown",
      "source": [
        "**Reserve keywords**\n",
        "Reserved Keyword: reserved keywords of the programming language."
      ],
      "metadata": {
        "id": "8EjF_Kj5IlEY"
      }
    },
    {
      "cell_type": "code",
      "source": [
        "import keyword\n",
        "print(keyword.kwlist)"
      ],
      "metadata": {
        "colab": {
          "base_uri": "https://localhost:8080/"
        },
        "id": "o2zvLmNgIkdM",
        "outputId": "9defc60e-11fa-4fa1-eef0-307ad19a9413"
      },
      "execution_count": null,
      "outputs": [
        {
          "output_type": "stream",
          "name": "stdout",
          "text": [
            "['False', 'None', 'True', 'and', 'as', 'assert', 'async', 'await', 'break', 'class', 'continue', 'def', 'del', 'elif', 'else', 'except', 'finally', 'for', 'from', 'global', 'if', 'import', 'in', 'is', 'lambda', 'nonlocal', 'not', 'or', 'pass', 'raise', 'return', 'try', 'while', 'with', 'yield']\n"
          ]
        }
      ]
    },
    {
      "cell_type": "markdown",
      "source": [
        "a)Reserved keywords cannot be used as an identifiers"
      ],
      "metadata": {
        "id": "C8pNHa_IIy1L"
      }
    },
    {
      "cell_type": "code",
      "source": [
        "False=5\n",
        "print(False)"
      ],
      "metadata": {
        "colab": {
          "base_uri": "https://localhost:8080/",
          "height": 140
        },
        "id": "jM46B8v0IuEr",
        "outputId": "6f8541a5-7f18-405f-9d3f-e0dd95fc6965"
      },
      "execution_count": null,
      "outputs": [
        {
          "output_type": "error",
          "ename": "SyntaxError",
          "evalue": "cannot assign to False (<ipython-input-39-c90848d7e3c2>, line 1)",
          "traceback": [
            "\u001b[0;36m  File \u001b[0;32m\"<ipython-input-39-c90848d7e3c2>\"\u001b[0;36m, line \u001b[0;32m1\u001b[0m\n\u001b[0;31m    False=5\u001b[0m\n\u001b[0m    ^\u001b[0m\n\u001b[0;31mSyntaxError\u001b[0m\u001b[0;31m:\u001b[0m cannot assign to False\n"
          ]
        }
      ]
    },
    {
      "cell_type": "markdown",
      "source": [
        "b) Identifiers cannot begin with digit"
      ],
      "metadata": {
        "id": "43CUaR4MI_hh"
      }
    },
    {
      "cell_type": "code",
      "source": [
        "2a=6\n",
        "print(2a)"
      ],
      "metadata": {
        "colab": {
          "base_uri": "https://localhost:8080/",
          "height": 140
        },
        "id": "f6sNVi2qI8BV",
        "outputId": "201abebc-b5fe-487a-af17-1719a895ce1f"
      },
      "execution_count": null,
      "outputs": [
        {
          "output_type": "error",
          "ename": "SyntaxError",
          "evalue": "invalid decimal literal (<ipython-input-40-d4b9f2794080>, line 1)",
          "traceback": [
            "\u001b[0;36m  File \u001b[0;32m\"<ipython-input-40-d4b9f2794080>\"\u001b[0;36m, line \u001b[0;32m1\u001b[0m\n\u001b[0;31m    2a=6\u001b[0m\n\u001b[0m    ^\u001b[0m\n\u001b[0;31mSyntaxError\u001b[0m\u001b[0;31m:\u001b[0m invalid decimal literal\n"
          ]
        }
      ]
    },
    {
      "cell_type": "markdown",
      "source": [
        "c) Symbols like @, #,! etc cannot be used as identifiers"
      ],
      "metadata": {
        "id": "moYRNG5hJFqB"
      }
    },
    {
      "cell_type": "code",
      "source": [
        "!a=6\n",
        "print(!a)"
      ],
      "metadata": {
        "colab": {
          "base_uri": "https://localhost:8080/",
          "height": 140
        },
        "id": "ANhvLzN7I8o_",
        "outputId": "435ae339-cb6d-4934-d03b-661ccda45588"
      },
      "execution_count": null,
      "outputs": [
        {
          "output_type": "error",
          "ename": "SyntaxError",
          "evalue": "invalid syntax (<ipython-input-41-7408345b3e09>, line 2)",
          "traceback": [
            "\u001b[0;36m  File \u001b[0;32m\"<ipython-input-41-7408345b3e09>\"\u001b[0;36m, line \u001b[0;32m2\u001b[0m\n\u001b[0;31m    print(!a)\u001b[0m\n\u001b[0m          ^\u001b[0m\n\u001b[0;31mSyntaxError\u001b[0m\u001b[0;31m:\u001b[0m invalid syntax\n"
          ]
        }
      ]
    },
    {
      "cell_type": "code",
      "source": [
        "print(input())"
      ],
      "metadata": {
        "colab": {
          "base_uri": "https://localhost:8080/"
        },
        "id": "OtqKTNDAd120",
        "outputId": "ff1d13d2-719d-4128-844b-f5df784fbc34"
      },
      "execution_count": null,
      "outputs": [
        {
          "output_type": "stream",
          "name": "stdout",
          "text": [
            "sapt\n",
            "sapt\n"
          ]
        }
      ]
    },
    {
      "cell_type": "markdown",
      "source": [
        "**Variables**: Reserved momory location to store values. The equal sign (=) is used to assign values to variables. the operator to the left of the = operator is name of the variable and the operand to the next to the right of the = operator is the value stored in the variable."
      ],
      "metadata": {
        "id": "oVyuPMz_JSyw"
      }
    },
    {
      "cell_type": "markdown",
      "source": [
        "**Variable type:**\n",
        "a) Integer value"
      ],
      "metadata": {
        "id": "0gJ41hZWJaF2"
      }
    },
    {
      "cell_type": "markdown",
      "source": [
        "An integer type variable in Python is a variable that holds an integer value. Integers are whole numbers without a fractional part, and they can be positive, negative, or zero. In Python, integers are represented by the int type."
      ],
      "metadata": {
        "id": "j1cPN0YRKPse"
      }
    },
    {
      "cell_type": "markdown",
      "source": [
        " **Basic Operations on Integer Type Variables\n",
        "Arithmetic Operations**\n",
        "\n",
        "Addition (+): Adds two integers.\n",
        "\n",
        "Subtraction (-): Subtracts one integer from another.\n",
        "\n",
        "Multiplication (*): Multiplies two integers.\n",
        "\n",
        "Division (/): Divides one integer by another and returns a float.\n",
        "\n",
        "Floor Division (//): Divides one integer by another and returns the largest\n",
        "integer less than or equal to the result.\n",
        "\n",
        "Modulus (%): Returns the remainder of the division of two integers.\n",
        "\n",
        "Exponentiation (**): Raises one integer to the power of another."
      ],
      "metadata": {
        "id": "b2_rtGjjKThy"
      }
    },
    {
      "cell_type": "code",
      "source": [
        "a = int(input())\n",
        "b = int(input())\n",
        "\n",
        "print(a + b)  # Addition: 13\n",
        "print(a - b)  # Subtraction: 7\n",
        "print(a * b)  # Multiplication: 30\n",
        "print(a / b)  # Division: 3.3333...\n",
        "print(a // b) # Floor Division: 3\n",
        "print(a % b)  # Modulus: 1\n",
        "print(a ** b) # Exponentiation: 1000\n"
      ],
      "metadata": {
        "colab": {
          "base_uri": "https://localhost:8080/"
        },
        "id": "550Dx9a5JIb6",
        "outputId": "b43bc161-57ed-439f-9f27-d54c84851869"
      },
      "execution_count": null,
      "outputs": [
        {
          "output_type": "stream",
          "name": "stdout",
          "text": [
            "10\n",
            "3\n",
            "13\n",
            "7\n",
            "30\n",
            "3.3333333333333335\n",
            "3\n",
            "1\n",
            "1000\n"
          ]
        }
      ]
    },
    {
      "cell_type": "markdown",
      "source": [
        "**Comparison Operations**\n",
        "\n",
        "\n",
        "Equal to (==): Checks if two integers are equal.\n",
        "\n",
        "Not equal to (!=): Checks if two integers are not equal.\n",
        "\n",
        "Greater than (>), Less than (<): Compares two integers.\n",
        "\n",
        "Greater than or equal to (>=),\n",
        "Less than or equal to (<=): Compares two integers."
      ],
      "metadata": {
        "id": "WifEeO7BMPBc"
      }
    },
    {
      "cell_type": "code",
      "source": [
        "print(a == b)\n",
        "print(a != b)\n",
        "print(a > b)\n",
        "print(a < b)\n",
        "print(a >= b)\n",
        "print(a <= b)\n"
      ],
      "metadata": {
        "colab": {
          "base_uri": "https://localhost:8080/"
        },
        "id": "fhdjFy4DK4Jm",
        "outputId": "c2c73a54-0da3-4436-929c-e9906ef53633"
      },
      "execution_count": null,
      "outputs": [
        {
          "output_type": "stream",
          "name": "stdout",
          "text": [
            "False\n",
            "True\n",
            "False\n",
            "True\n",
            "False\n",
            "True\n"
          ]
        }
      ]
    },
    {
      "cell_type": "markdown",
      "source": [
        "**Bitwise Operations**\n",
        "\n",
        "AND (&): Performs bitwise AND operation.\n",
        "\n",
        "OR (|): Performs bitwise OR operation.\n",
        "\n",
        "XOR (^): Performs bitwise XOR operation.\n",
        "\n",
        "NOT (~): Performs bitwise NOT operation.\n",
        "\n",
        "Left Shift (<<): Shifts the bits of the integer to the left.\n",
        "\n",
        "Right Shift (>>): Shifts the bits of the integer to the right."
      ],
      "metadata": {
        "id": "0U5UWrdWMpF4"
      }
    },
    {
      "cell_type": "code",
      "source": [
        "a=10\n",
        "b=3\n",
        "print(a & b)  # Bitwise AND: 2\n",
        "print(a | b)  # Bitwise OR: 11\n",
        "print(a ^ b)  # Bitwise XOR: 9\n",
        "print(~a)     # Bitwise NOT: -11 (explain later)\n",
        "print(a << 1) # Left Shift: 20 (explain later)\n",
        "print(a >> 1) # Right Shift: 5 (explain later)\n"
      ],
      "metadata": {
        "colab": {
          "base_uri": "https://localhost:8080/"
        },
        "id": "_X0t91s9MdlT",
        "outputId": "68a50073-d9ef-4df9-85be-c7be460a2c93"
      },
      "execution_count": null,
      "outputs": [
        {
          "output_type": "stream",
          "name": "stdout",
          "text": [
            "2\n",
            "11\n",
            "9\n",
            "-11\n",
            "20\n",
            "5\n"
          ]
        }
      ]
    },
    {
      "cell_type": "markdown",
      "source": [
        "To convert an integer to its binary representation in Python, one can use the built-in bin() function. This function takes an integer and returns its binary representation as a string. The binary string is prefixed with '0b', which indicates that the following characters are in binary format. Here's an example of how to use it:"
      ],
      "metadata": {
        "id": "CSGWOMAqfi-6"
      }
    },
    {
      "cell_type": "code",
      "source": [
        "x=int(input())\n",
        "y=int(input())\n",
        "binary_representation = bin(x)\n",
        "binary_representation_1 = bin(y)\n",
        "print(binary_representation)\n",
        "print(binary_representation_1)\n",
        "x=x^y\n",
        "y=x^y\n",
        "x=x^y\n",
        "print(x)\n",
        "print(y)\n"
      ],
      "metadata": {
        "colab": {
          "base_uri": "https://localhost:8080/"
        },
        "id": "uXqmpMhQfJYB",
        "outputId": "1b953b74-1232-4dee-eb99-ddc1ee0038c5"
      },
      "execution_count": null,
      "outputs": [
        {
          "output_type": "stream",
          "name": "stdout",
          "text": [
            "5\n",
            "7\n",
            "0b101\n",
            "0b111\n",
            "7\n",
            "5\n"
          ]
        }
      ]
    },
    {
      "cell_type": "code",
      "source": [
        "result = 11 >> 1\n",
        "print(result)  # Output will be 5\n"
      ],
      "metadata": {
        "colab": {
          "base_uri": "https://localhost:8080/"
        },
        "id": "Xc91k0WVQSmo",
        "outputId": "4f75a54e-a314-4069-8f35-195710b7f0da"
      },
      "execution_count": null,
      "outputs": [
        {
          "output_type": "stream",
          "name": "stdout",
          "text": [
            "5\n"
          ]
        }
      ]
    },
    {
      "cell_type": "markdown",
      "source": [
        "**Assignment Operations**\n",
        "\n",
        "\n",
        "Combine arithmetic or bitwise operations with assignment (e.g., +=, -=, *=, &=, |=, ^=, <<=, >>=)."
      ],
      "metadata": {
        "id": "EDW6w7E9OdVw"
      }
    },
    {
      "cell_type": "code",
      "source": [
        "c = 5\n",
        "c += a  # Equivalent to c = c + a\n",
        "print(c)\n"
      ],
      "metadata": {
        "colab": {
          "base_uri": "https://localhost:8080/"
        },
        "id": "qHm1GTkoMwc5",
        "outputId": "dc245b0e-c3d9-45a8-d2a0-a9abd1521b8d"
      },
      "execution_count": null,
      "outputs": [
        {
          "output_type": "stream",
          "name": "stdout",
          "text": [
            "15\n"
          ]
        }
      ]
    },
    {
      "cell_type": "markdown",
      "source": [
        "Q 4. WAP to swap the value of two integer variables."
      ],
      "metadata": {
        "id": "P2HNM9I2doCe"
      }
    },
    {
      "cell_type": "code",
      "source": [
        "x=input()\n",
        "y=input()\n",
        "print(x+y)"
      ],
      "metadata": {
        "id": "zJ83XuyROjxM",
        "colab": {
          "base_uri": "https://localhost:8080/"
        },
        "outputId": "07c0013b-1ace-4af4-a356-3445eb98d016"
      },
      "execution_count": null,
      "outputs": [
        {
          "output_type": "stream",
          "name": "stdout",
          "text": [
            "3\n",
            "4\n",
            "34\n"
          ]
        }
      ]
    },
    {
      "cell_type": "markdown",
      "source": [
        "**2. String**\n",
        "\n",
        "String is a data type traditionally represented as a sequence of characters, often used to store text. Strings are implemented in most programming languages and are fundamental in handling textual data. The specific implementation and behavior of strings can vary between languages, but they generally offer a range of operations that can be performed on them. Below is a detailed exploration of common string operators and functionalities typically found in many programming languages."
      ],
      "metadata": {
        "id": "-zk1mFE5asft"
      }
    },
    {
      "cell_type": "markdown",
      "source": [
        "**Length**\n",
        "\n",
        "This operation returns the number of characters in a string. It's essential for iterating over the string or for operations that require knowledge of the string's size."
      ],
      "metadata": {
        "id": "-NI0Cu-fbTSb"
      }
    },
    {
      "cell_type": "code",
      "source": [
        "string = \"Hello World\"\n",
        "#length = len(string)\n",
        "print(len(string))  # Output: 11\n"
      ],
      "metadata": {
        "colab": {
          "base_uri": "https://localhost:8080/"
        },
        "id": "_n5jzq6qbOjE",
        "outputId": "35da5142-ccda-4341-b0f8-40a1f7e3087a"
      },
      "execution_count": null,
      "outputs": [
        {
          "output_type": "stream",
          "name": "stdout",
          "text": [
            "11\n"
          ]
        }
      ]
    },
    {
      "cell_type": "code",
      "source": [
        "a = \"Hello World\"\n",
        "print(a[6])\n",
        "print(a[-5])"
      ],
      "metadata": {
        "colab": {
          "base_uri": "https://localhost:8080/"
        },
        "id": "lCNhkcdVlpCi",
        "outputId": "9ac2de87-6069-430a-e9b4-1b9aba62d902"
      },
      "execution_count": null,
      "outputs": [
        {
          "output_type": "stream",
          "name": "stdout",
          "text": [
            "W\n",
            "W\n"
          ]
        }
      ]
    },
    {
      "cell_type": "code",
      "source": [
        "print(a[0:5])\n",
        "print(a[0:])\n",
        "print(a[0::2])\n",
        "print(a[1::2])\n",
        "print(a[1:3])\n",
        "print(a[-5:])\n",
        "print(a[-1:-11:-1])\n",
        "#print(a[-1:-11])\n",
        "print(a[-1::-1])"
      ],
      "metadata": {
        "colab": {
          "base_uri": "https://localhost:8080/"
        },
        "id": "GvSD-vxYrOW-",
        "outputId": "c93250c4-4ce0-4c17-8ff0-9ba72fb6884f"
      },
      "execution_count": null,
      "outputs": [
        {
          "output_type": "stream",
          "name": "stdout",
          "text": [
            "Hello\n",
            "Hello World\n",
            "HloWrd\n",
            "el ol\n",
            "el\n",
            "World\n",
            "dlroW olle\n",
            "dlroW olleH\n"
          ]
        }
      ]
    },
    {
      "cell_type": "markdown",
      "source": [
        ". **Concatenation**\n",
        "\n",
        "Concatenation is the operation of joining two or more strings end-to-end. It's a fundamental operation in string manipulation, allowing the creation of new strings by combining existing ones. For example, concatenating \"Hello\" and \"World\" results in \"HelloWorld\"."
      ],
      "metadata": {
        "id": "KT30J5ImbBWU"
      }
    },
    {
      "cell_type": "code",
      "source": [
        "str1 = \"Hello\"\n",
        "str2 = \"World\"\n",
        "concatenated = str1 + \" \" + str2\n",
        "print(concatenated)  # Output: Hello World\n",
        "\n"
      ],
      "metadata": {
        "id": "9wx5ZVKHxQSc",
        "colab": {
          "base_uri": "https://localhost:8080/"
        },
        "outputId": "9dea4bab-d157-49f0-d412-45882f8cbe84"
      },
      "execution_count": null,
      "outputs": [
        {
          "output_type": "stream",
          "name": "stdout",
          "text": [
            "Hello World\n"
          ]
        }
      ]
    },
    {
      "cell_type": "markdown",
      "source": [
        "**Indexing**\n",
        "Indexing refers to accessing individual characters in a string. Strings are often treated as arrays of characters, and each character can be accessed using its index, typically starting from zero."
      ],
      "metadata": {
        "id": "C8q9pn7-cV41"
      }
    },
    {
      "cell_type": "code",
      "source": [
        "string = \"Hello\"\n",
        "char = string[1]  # Indexing starts at 0\n",
        "print(char)  # Output: e\n",
        "print(string[-1])\n",
        "print(string[0])\n",
        "print(string[-5])\n"
      ],
      "metadata": {
        "colab": {
          "base_uri": "https://localhost:8080/"
        },
        "id": "1WqCYtKWcOSI",
        "outputId": "566f44b2-cef2-42dd-f23f-5a542f8d1eb4"
      },
      "execution_count": null,
      "outputs": [
        {
          "output_type": "stream",
          "name": "stdout",
          "text": [
            "e\n",
            "o\n",
            "H\n",
            "H\n"
          ]
        }
      ]
    },
    {
      "cell_type": "markdown",
      "source": [
        "**Slicing**\n",
        "\n",
        "Slicing is used to obtain a substring of the original string. It involves specifying a start and end index to create a new string from the portion of the original string."
      ],
      "metadata": {
        "id": "-FQRFK9Vckj9"
      }
    },
    {
      "cell_type": "code",
      "source": [
        "string = \"Hello World-hello\"\n",
        "substring = string[6:11]  # Slice from index 6 to 10\n",
        "print(substring)  # Output: World\n",
        "print(string[3:])\n",
        "print(string[:11])\n",
        "print(string*2)\n",
        "\n"
      ],
      "metadata": {
        "colab": {
          "base_uri": "https://localhost:8080/"
        },
        "id": "1qJmmOLZcgLo",
        "outputId": "d589b07f-af77-4117-d4a4-084dc3e5aa8c"
      },
      "execution_count": null,
      "outputs": [
        {
          "output_type": "stream",
          "name": "stdout",
          "text": [
            "World\n",
            "lo World-hello\n",
            "Hello World\n",
            "Hello World-helloHello World-hello\n"
          ]
        }
      ]
    },
    {
      "cell_type": "code",
      "source": [
        "print(string[0:13:2])"
      ],
      "metadata": {
        "colab": {
          "base_uri": "https://localhost:8080/"
        },
        "id": "Cfs2PdhONXTs",
        "outputId": "8ddaf083-2545-437f-b390-d8b4c2bc7a44"
      },
      "execution_count": null,
      "outputs": [
        {
          "output_type": "stream",
          "name": "stdout",
          "text": [
            "HloWrdh\n"
          ]
        }
      ]
    },
    {
      "cell_type": "code",
      "source": [
        "print(string[9:0:1]) #No output but no error"
      ],
      "metadata": {
        "colab": {
          "base_uri": "https://localhost:8080/"
        },
        "id": "6iVw2nYlNn8F",
        "outputId": "60b8442e-ba68-428e-8c0e-2ca5eb01e147"
      },
      "execution_count": null,
      "outputs": [
        {
          "output_type": "stream",
          "name": "stdout",
          "text": [
            "\n"
          ]
        }
      ]
    },
    {
      "cell_type": "code",
      "source": [
        "print(string[9:0:-1])"
      ],
      "metadata": {
        "colab": {
          "base_uri": "https://localhost:8080/"
        },
        "id": "zQSNLhCQOKG0",
        "outputId": "bf6c31bd-a41e-4d76-b58e-996f822e3ccf"
      },
      "execution_count": null,
      "outputs": [
        {
          "output_type": "stream",
          "name": "stdout",
          "text": [
            "lroW olle\n"
          ]
        }
      ]
    },
    {
      "cell_type": "markdown",
      "source": [
        "**Reversing a string**\n"
      ],
      "metadata": {
        "id": "uYj1Ul_wOWnh"
      }
    },
    {
      "cell_type": "code",
      "source": [
        "print(string[-1:-100:-1])"
      ],
      "metadata": {
        "colab": {
          "base_uri": "https://localhost:8080/"
        },
        "id": "fE2YeZ4bOb8t",
        "outputId": "2146eb8e-2bc8-4f18-f702-0d8af4dde38f"
      },
      "execution_count": null,
      "outputs": [
        {
          "output_type": "stream",
          "name": "stdout",
          "text": [
            "olleh-dlroW olleH\n"
          ]
        }
      ]
    },
    {
      "cell_type": "code",
      "source": [
        "print(string[-1::-1])"
      ],
      "metadata": {
        "colab": {
          "base_uri": "https://localhost:8080/"
        },
        "id": "74WA9ahcPCNf",
        "outputId": "dcd6f5c0-842b-4513-b971-c258fb3a34e5"
      },
      "execution_count": null,
      "outputs": [
        {
          "output_type": "stream",
          "name": "stdout",
          "text": [
            "olleh-dlroW olleH\n"
          ]
        }
      ]
    },
    {
      "cell_type": "code",
      "source": [
        "print(string[::-1])"
      ],
      "metadata": {
        "colab": {
          "base_uri": "https://localhost:8080/"
        },
        "id": "BC3z-gl6PrY-",
        "outputId": "b9f02c98-6924-420a-99a5-461e7ffad995"
      },
      "execution_count": null,
      "outputs": [
        {
          "output_type": "stream",
          "name": "stdout",
          "text": [
            "olleh-dlroW olleH\n"
          ]
        }
      ]
    },
    {
      "cell_type": "code",
      "source": [
        "print(string[::-2])"
      ],
      "metadata": {
        "colab": {
          "base_uri": "https://localhost:8080/"
        },
        "id": "oGXOGVtDRPJy",
        "outputId": "934cfe8a-8ca3-41fb-d366-d93e04e9cfe5"
      },
      "execution_count": null,
      "outputs": [
        {
          "output_type": "stream",
          "name": "stdout",
          "text": [
            "olhdrWolH\n"
          ]
        }
      ]
    },
    {
      "cell_type": "markdown",
      "source": [
        "**find()**\n",
        "\n",
        "Searching involves finding a character or substring within a string. This can include checking if a string contains a particular substring, or finding the position of a substring within a string.\n",
        "\n"
      ],
      "metadata": {
        "id": "cUo9eIKtc6LW"
      }
    },
    {
      "cell_type": "code",
      "source": [
        "string = \"we are masters in programming\"\n",
        "position = string.find(\"in\")\n",
        "\n",
        "print(position)\n",
        "print(string.find(\"world\"))\n"
      ],
      "metadata": {
        "colab": {
          "base_uri": "https://localhost:8080/"
        },
        "id": "-hiEuCYldC3O",
        "outputId": "ae655cd1-1a5d-4241-c4e7-76ea6effde8b"
      },
      "execution_count": null,
      "outputs": [
        {
          "output_type": "stream",
          "name": "stdout",
          "text": [
            "15\n",
            "-1\n"
          ]
        }
      ]
    },
    {
      "cell_type": "markdown",
      "source": [
        "**index()**"
      ],
      "metadata": {
        "id": "wagmD0oY3VTm"
      }
    },
    {
      "cell_type": "code",
      "source": [
        "a='Hello World'\n",
        "print(a.index(\"orl\"))\n",
        "print(a.index('a'))"
      ],
      "metadata": {
        "colab": {
          "base_uri": "https://localhost:8080/",
          "height": 228
        },
        "id": "2rxY4Keh3nD9",
        "outputId": "d07a6f8f-1d92-4509-dc7d-80b54498420d"
      },
      "execution_count": null,
      "outputs": [
        {
          "output_type": "stream",
          "name": "stdout",
          "text": [
            "7\n"
          ]
        },
        {
          "output_type": "error",
          "ename": "ValueError",
          "evalue": "substring not found",
          "traceback": [
            "\u001b[0;31m---------------------------------------------------------------------------\u001b[0m",
            "\u001b[0;31mValueError\u001b[0m                                Traceback (most recent call last)",
            "\u001b[0;32m<ipython-input-48-c80d0838ca07>\u001b[0m in \u001b[0;36m<cell line: 3>\u001b[0;34m()\u001b[0m\n\u001b[1;32m      1\u001b[0m \u001b[0ma\u001b[0m\u001b[0;34m=\u001b[0m\u001b[0;34m'Hello World'\u001b[0m\u001b[0;34m\u001b[0m\u001b[0;34m\u001b[0m\u001b[0m\n\u001b[1;32m      2\u001b[0m \u001b[0mprint\u001b[0m\u001b[0;34m(\u001b[0m\u001b[0ma\u001b[0m\u001b[0;34m.\u001b[0m\u001b[0mindex\u001b[0m\u001b[0;34m(\u001b[0m\u001b[0;34m\"orl\"\u001b[0m\u001b[0;34m)\u001b[0m\u001b[0;34m)\u001b[0m\u001b[0;34m\u001b[0m\u001b[0;34m\u001b[0m\u001b[0m\n\u001b[0;32m----> 3\u001b[0;31m \u001b[0mprint\u001b[0m\u001b[0;34m(\u001b[0m\u001b[0ma\u001b[0m\u001b[0;34m.\u001b[0m\u001b[0mindex\u001b[0m\u001b[0;34m(\u001b[0m\u001b[0;34m'a'\u001b[0m\u001b[0;34m)\u001b[0m\u001b[0;34m)\u001b[0m\u001b[0;34m\u001b[0m\u001b[0;34m\u001b[0m\u001b[0m\n\u001b[0m",
            "\u001b[0;31mValueError\u001b[0m: substring not found"
          ]
        }
      ]
    },
    {
      "cell_type": "code",
      "source": [
        "a='Hello world'\n",
        "print(a.count('c'))"
      ],
      "metadata": {
        "colab": {
          "base_uri": "https://localhost:8080/"
        },
        "id": "fgPZz1J6P_qd",
        "outputId": "c3652e96-7502-4b5b-b43d-13c431848a24"
      },
      "execution_count": null,
      "outputs": [
        {
          "output_type": "stream",
          "name": "stdout",
          "text": [
            "0\n"
          ]
        }
      ]
    },
    {
      "cell_type": "code",
      "source": [
        "a=input()\n",
        "b=str(a.count('a'))\n",
        "b1=str(a.count('b'))\n",
        "b2=str(a.count('c'))\n",
        "b3=str(a.count('d'))\n",
        "print('a'+b+'b'+b1+'c'+b2+'d'+b3)"
      ],
      "metadata": {
        "colab": {
          "base_uri": "https://localhost:8080/"
        },
        "id": "8P-Me9JyUW-k",
        "outputId": "1ec66285-3973-4acc-ac41-2870dc14a33c"
      },
      "execution_count": null,
      "outputs": [
        {
          "output_type": "stream",
          "name": "stdout",
          "text": [
            "aaaa\n",
            "a4\n"
          ]
        }
      ]
    },
    {
      "cell_type": "code",
      "source": [],
      "metadata": {
        "id": "9pgSSismUZ4R"
      },
      "execution_count": null,
      "outputs": []
    },
    {
      "cell_type": "markdown",
      "source": [
        "**split()**"
      ],
      "metadata": {
        "id": "pW95SWoV4Up1"
      }
    },
    {
      "cell_type": "code",
      "source": [
        "a=12\n",
        "b=str(a)\n",
        "print(b)\n",
        "print(a)"
      ],
      "metadata": {
        "colab": {
          "base_uri": "https://localhost:8080/"
        },
        "id": "tXLxiSZ3Ru7m",
        "outputId": "91ca8565-af8c-49eb-9ea9-40cee1845994"
      },
      "execution_count": null,
      "outputs": [
        {
          "output_type": "stream",
          "name": "stdout",
          "text": [
            "12\n",
            "12\n"
          ]
        }
      ]
    },
    {
      "cell_type": "code",
      "source": [
        "a='python programming'\n",
        "b='python*programming'\n",
        "c='python#programming#for#MBA'\n",
        "print(a.split(\" \"))\n",
        "print(b.split(\"*\"))\n",
        "print(c.split(\"#\",3))"
      ],
      "metadata": {
        "colab": {
          "base_uri": "https://localhost:8080/"
        },
        "id": "4TLy4bId4YQf",
        "outputId": "2363ff92-5bf4-44ca-8db6-a5afe8707b66"
      },
      "execution_count": null,
      "outputs": [
        {
          "output_type": "stream",
          "name": "stdout",
          "text": [
            "['python', 'programming']\n",
            "['python', 'programming']\n",
            "['python', 'programming', 'for', 'MBA']\n"
          ]
        }
      ]
    },
    {
      "cell_type": "markdown",
      "source": [
        "**Membership Function**\n",
        "\n",
        "In the context of strings, the term \"membership function\" typically refers to an operation that checks whether a certain character or substring is present within a given string. In Python, this is commonly achieved using the in and not in operators. These operators allow for a concise and readable way to test for the presence of a substring within a larger string.\n",
        "\n",
        "Using in Operator\n",
        "The in operator returns True if the specified substring exists within the string; otherwise, it returns False."
      ],
      "metadata": {
        "id": "M_KfZWHzeI4n"
      }
    },
    {
      "cell_type": "code",
      "source": [
        "s='MBA Programming'\n",
        "print('BA' in s)\n",
        "print('BA' not in s)\n",
        "print('Ba' in s)\n"
      ],
      "metadata": {
        "colab": {
          "base_uri": "https://localhost:8080/"
        },
        "id": "UaNaAgaDKDcd",
        "outputId": "614a2e75-4c38-4621-b429-332acc0f0cea"
      },
      "execution_count": null,
      "outputs": [
        {
          "output_type": "stream",
          "name": "stdout",
          "text": [
            "True\n",
            "False\n",
            "False\n"
          ]
        }
      ]
    },
    {
      "cell_type": "code",
      "source": [
        "string = \"Hello World\"\n",
        "substring = \"World\"\n",
        "\n",
        "# Check if 'World' is in 'Hello World'\n",
        "result = substring in string\n",
        "print(result)  # Output: True\n",
        "\n",
        "# Check if 'Python' is in 'Hello World'\n",
        "result = \"Python\" in string\n",
        "print(result)  # Output: False\n"
      ],
      "metadata": {
        "colab": {
          "base_uri": "https://localhost:8080/"
        },
        "id": "eqclTYSWc2Ku",
        "outputId": "57b247eb-b075-4989-d9d8-552a5da4688c"
      },
      "execution_count": null,
      "outputs": [
        {
          "output_type": "stream",
          "name": "stdout",
          "text": [
            "True\n",
            "False\n"
          ]
        }
      ]
    },
    {
      "cell_type": "markdown",
      "source": [
        "Using not in Operator\n",
        "Conversely, the not in operator returns True if the specified substring does not exist within the string.\n",
        "\n"
      ],
      "metadata": {
        "id": "_N96bgGgew9W"
      }
    },
    {
      "cell_type": "code",
      "source": [
        "string = \"Hello World\"\n",
        "\n",
        "# Check if 'Python' is not in 'Hello World'\n",
        "result = \"Python\" not in string\n",
        "print(result)  # Output: True\n",
        "\n",
        "# Check if 'World' is not in 'Hello World'\n",
        "result = \"World\" not in string\n",
        "print(result)  # Output: False\n"
      ],
      "metadata": {
        "colab": {
          "base_uri": "https://localhost:8080/"
        },
        "id": "xSbfd-NsewRD",
        "outputId": "3331d9db-5713-40af-a990-e1b735758529"
      },
      "execution_count": null,
      "outputs": [
        {
          "output_type": "stream",
          "name": "stdout",
          "text": [
            "True\n",
            "False\n"
          ]
        }
      ]
    },
    {
      "cell_type": "markdown",
      "source": [
        "**lower()**: returns a copy of string in which all upper case alphabets are convered to lower case."
      ],
      "metadata": {
        "id": "hQY6nmX0Kdl4"
      }
    },
    {
      "cell_type": "code",
      "source": [
        "s='Learning Python'\n",
        "print(s.lower())"
      ],
      "metadata": {
        "id": "09hyC3boe6kp",
        "colab": {
          "base_uri": "https://localhost:8080/"
        },
        "outputId": "cf914380-48ef-4fa2-dc6d-21c3ed9f7741"
      },
      "execution_count": null,
      "outputs": [
        {
          "output_type": "stream",
          "name": "stdout",
          "text": [
            "learning python\n"
          ]
        }
      ]
    },
    {
      "cell_type": "markdown",
      "source": [
        "**upper()**: returns a copy of string in which all lower case alphabets are convered to upper case."
      ],
      "metadata": {
        "id": "oPizWnqPKchy"
      }
    },
    {
      "cell_type": "code",
      "source": [
        "print(s.upper())"
      ],
      "metadata": {
        "colab": {
          "base_uri": "https://localhost:8080/"
        },
        "id": "FZ7x7B1_LcSI",
        "outputId": "5f73d7bf-29b7-4c42-ec66-3c8a6e25ad40"
      },
      "execution_count": null,
      "outputs": [
        {
          "output_type": "stream",
          "name": "stdout",
          "text": [
            "LEARNING PYTHON\n"
          ]
        }
      ]
    },
    {
      "cell_type": "markdown",
      "source": [
        "**swapcase()**:upper becomes lower and vice versa"
      ],
      "metadata": {
        "id": "Ai4YRs_-LiMT"
      }
    },
    {
      "cell_type": "code",
      "source": [
        "print(s.swapcase())"
      ],
      "metadata": {
        "colab": {
          "base_uri": "https://localhost:8080/"
        },
        "id": "Tw5-5cRcLgYr",
        "outputId": "7ea42a42-2661-4d5b-fb2e-64de0908214b"
      },
      "execution_count": null,
      "outputs": [
        {
          "output_type": "stream",
          "name": "stdout",
          "text": [
            "lEARNING pYTHON\n"
          ]
        }
      ]
    },
    {
      "cell_type": "markdown",
      "source": [
        "**capitalize()**:returns a copy of string with only its first character capitalized"
      ],
      "metadata": {
        "id": "5lKCWeuYL6qd"
      }
    },
    {
      "cell_type": "code",
      "source": [
        "a=\"mBA\"\n",
        "print(a.capitalize())"
      ],
      "metadata": {
        "colab": {
          "base_uri": "https://localhost:8080/"
        },
        "id": "D8eGnocyLvBj",
        "outputId": "04c1ea24-a574-4936-99c9-2ed389a11c9b"
      },
      "execution_count": null,
      "outputs": [
        {
          "output_type": "stream",
          "name": "stdout",
          "text": [
            "Mba\n"
          ]
        }
      ]
    },
    {
      "cell_type": "markdown",
      "source": [
        "**title()** returns the first letter capital"
      ],
      "metadata": {
        "id": "Rg_kI4XLSfYL"
      }
    },
    {
      "cell_type": "code",
      "source": [
        "a='hello world'\n",
        "print(a.title())"
      ],
      "metadata": {
        "colab": {
          "base_uri": "https://localhost:8080/"
        },
        "id": "8yVPkvWxR1lL",
        "outputId": "27795fed-6a00-468e-8fa7-2c06e84e1ee2"
      },
      "execution_count": null,
      "outputs": [
        {
          "output_type": "stream",
          "name": "stdout",
          "text": [
            "Hello World\n"
          ]
        }
      ]
    },
    {
      "cell_type": "markdown",
      "source": [
        "**ljust()**"
      ],
      "metadata": {
        "id": "q_8ARN7WbOX0"
      }
    },
    {
      "cell_type": "code",
      "source": [
        "a=\"Hello\"\n",
        "b=a.ljust(10,'*')\n",
        "print(b)"
      ],
      "metadata": {
        "colab": {
          "base_uri": "https://localhost:8080/"
        },
        "id": "pE7v7LUGbcdw",
        "outputId": "c295adc8-31b9-41e6-c55e-0ecb8ac51602"
      },
      "execution_count": null,
      "outputs": [
        {
          "output_type": "stream",
          "name": "stdout",
          "text": [
            "Hello*****\n"
          ]
        }
      ]
    },
    {
      "cell_type": "markdown",
      "source": [
        "**rstrip()**"
      ],
      "metadata": {
        "id": "HP0eAhc7bxwq"
      }
    },
    {
      "cell_type": "code",
      "source": [
        " print(b)\n",
        " print(b.rstrip('*'))"
      ],
      "metadata": {
        "colab": {
          "base_uri": "https://localhost:8080/"
        },
        "id": "P5tXzhtgb1P3",
        "outputId": "350d973a-f2f9-4365-b443-e5a4cd091535"
      },
      "execution_count": null,
      "outputs": [
        {
          "output_type": "stream",
          "name": "stdout",
          "text": [
            "Hello*****\n",
            "Hello\n"
          ]
        }
      ]
    },
    {
      "cell_type": "markdown",
      "source": [
        "**rjust()**"
      ],
      "metadata": {
        "id": "fe3LniHQb_sC"
      }
    },
    {
      "cell_type": "code",
      "source": [
        "a=\"hello\"\n",
        "b=a.rjust(12,\"*\")\n",
        "print(b)"
      ],
      "metadata": {
        "colab": {
          "base_uri": "https://localhost:8080/"
        },
        "id": "scsSpiGjcKkN",
        "outputId": "92379d55-8d50-4e8c-a2c1-b60699923ecb"
      },
      "execution_count": null,
      "outputs": [
        {
          "output_type": "stream",
          "name": "stdout",
          "text": [
            "*******hello\n"
          ]
        }
      ]
    },
    {
      "cell_type": "markdown",
      "source": [
        "**lstrip()**"
      ],
      "metadata": {
        "id": "vWlxnTN_cm1K"
      }
    },
    {
      "cell_type": "code",
      "source": [
        "print(b.lstrip(\"*\"))"
      ],
      "metadata": {
        "colab": {
          "base_uri": "https://localhost:8080/"
        },
        "id": "p92ciXdxckIZ",
        "outputId": "254c8ed4-ce37-4515-c8fa-a979ed5649fc"
      },
      "execution_count": null,
      "outputs": [
        {
          "output_type": "stream",
          "name": "stdout",
          "text": [
            "hello\n"
          ]
        }
      ]
    },
    {
      "cell_type": "markdown",
      "source": [
        "**center()**"
      ],
      "metadata": {
        "id": "FJNN-8Qbc6FV"
      }
    },
    {
      "cell_type": "code",
      "source": [
        "a=\"ABC\"\n",
        "b=a.center(12,\"&\")\n",
        "print(b)"
      ],
      "metadata": {
        "colab": {
          "base_uri": "https://localhost:8080/"
        },
        "id": "tXawk9wLc-tX",
        "outputId": "a3af144f-f8a2-4c98-b7ed-596054d785f4"
      },
      "execution_count": null,
      "outputs": [
        {
          "output_type": "stream",
          "name": "stdout",
          "text": [
            "&&&&ABC&&&&&\n"
          ]
        }
      ]
    },
    {
      "cell_type": "markdown",
      "source": [
        "**strip()**"
      ],
      "metadata": {
        "id": "njqF-qrpdOUi"
      }
    },
    {
      "cell_type": "code",
      "source": [
        "print(b.strip(\"&\"))"
      ],
      "metadata": {
        "colab": {
          "base_uri": "https://localhost:8080/"
        },
        "id": "706J-1xSdSPu",
        "outputId": "52afd5dc-fffa-4d95-8fc0-56e24b210cb7"
      },
      "execution_count": null,
      "outputs": [
        {
          "output_type": "stream",
          "name": "stdout",
          "text": [
            "ABC\n"
          ]
        }
      ]
    },
    {
      "cell_type": "markdown",
      "source": [
        "**replace()**"
      ],
      "metadata": {
        "id": "qTWRzFCQ0vCj"
      }
    },
    {
      "cell_type": "code",
      "source": [
        "a=\"this is very new. this is good\"\n",
        "print(a.replace('is','was'))\n",
        "print(a.replace('is','was',1))"
      ],
      "metadata": {
        "colab": {
          "base_uri": "https://localhost:8080/"
        },
        "id": "3Yf58atM1DDq",
        "outputId": "403a1ae5-85f0-4855-e896-b441ddb16007"
      },
      "execution_count": null,
      "outputs": [
        {
          "output_type": "stream",
          "name": "stdout",
          "text": [
            "thwas was very new. thwas was good\n",
            "thwas is very new. this is good\n"
          ]
        }
      ]
    },
    {
      "cell_type": "markdown",
      "source": [
        "**count()**"
      ],
      "metadata": {
        "id": "CuTpeNGQ2G--"
      }
    },
    {
      "cell_type": "code",
      "source": [
        "a='saptarsi sanyal'\n",
        "print(a.count('i'))\n",
        "print(a.count('i',0,4))"
      ],
      "metadata": {
        "colab": {
          "base_uri": "https://localhost:8080/"
        },
        "id": "MVNz1wlE2JfC",
        "outputId": "b3214d5b-a893-4b52-c10e-f3d19c3ef6b3"
      },
      "execution_count": null,
      "outputs": [
        {
          "output_type": "stream",
          "name": "stdout",
          "text": [
            "1\n",
            "0\n"
          ]
        }
      ]
    },
    {
      "cell_type": "code",
      "source": [
        "a='Hello World'\n",
        "print(a.replace('ll',''))"
      ],
      "metadata": {
        "colab": {
          "base_uri": "https://localhost:8080/"
        },
        "id": "fWdLbnkY1mtv",
        "outputId": "a158a12e-08c4-468f-c9f1-9dc6c397b48e"
      },
      "execution_count": null,
      "outputs": [
        {
          "output_type": "stream",
          "name": "stdout",
          "text": [
            "Heo World\n"
          ]
        }
      ]
    },
    {
      "cell_type": "code",
      "source": [
        "a='20'\n",
        "#print(oct(a))\n",
        "print(int(a,4))"
      ],
      "metadata": {
        "colab": {
          "base_uri": "https://localhost:8080/"
        },
        "id": "9e_ZFlckSdvj",
        "outputId": "80375da3-1181-4c24-838d-55361ff0d5b0"
      },
      "execution_count": null,
      "outputs": [
        {
          "output_type": "stream",
          "name": "stdout",
          "text": [
            "8\n"
          ]
        }
      ]
    },
    {
      "cell_type": "code",
      "source": [
        "a=\"madam\"\n",
        "b=a[-1::-1]\n",
        "print(a==b)"
      ],
      "metadata": {
        "colab": {
          "base_uri": "https://localhost:8080/"
        },
        "id": "XmCFcNwLUdCG",
        "outputId": "e49fca0c-e227-4b9c-cefa-4c29fc31ae9c"
      },
      "execution_count": null,
      "outputs": [
        {
          "output_type": "stream",
          "name": "stdout",
          "text": [
            "True\n"
          ]
        }
      ]
    },
    {
      "cell_type": "code",
      "source": [
        "a=20\n",
        "print(oct(a))"
      ],
      "metadata": {
        "colab": {
          "base_uri": "https://localhost:8080/"
        },
        "id": "O7xPd18cfU-l",
        "outputId": "4ce05421-1222-48cf-d273-ab3533f7c259"
      },
      "execution_count": null,
      "outputs": [
        {
          "output_type": "stream",
          "name": "stdout",
          "text": [
            "0o24\n"
          ]
        }
      ]
    },
    {
      "cell_type": "markdown",
      "source": [
        "Q4. String Compression: Implement a method to perform basic string compression using the counts of repeated characters. For example, the string aabcccccaaa would become a2b1c5a3. If the \"compressed\" string would not become smaller than the original string, your method should return the original string.\n",
        "\n",
        " Q5.Longest Palindromic Substring: Given a string s, find the longest palindromic substring in s."
      ],
      "metadata": {
        "id": "XLMwn1Y55oC2"
      }
    },
    {
      "cell_type": "code",
      "source": [],
      "metadata": {
        "id": "GKV3TWP3aHgf"
      },
      "execution_count": null,
      "outputs": []
    }
  ]
}